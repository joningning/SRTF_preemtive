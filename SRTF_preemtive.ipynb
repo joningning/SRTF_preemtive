{
 "cells": [
  {
   "cell_type": "markdown",
   "id": "b2094f2a-6a9c-4473-b991-f33516aef590",
   "metadata": {},
   "source": [
    "## Shortest Remaining Time First Scheduling Preemtive\n",
    "#### by Isabel Adriatico, Tricia Jonina Alcisto"
   ]
  },
  {
   "cell_type": "markdown",
   "id": "10731bc5-6891-4fe5-a05b-86c087b95073",
   "metadata": {},
   "source": [
    "in this algorithm, the CPU always selects the process with the shortest remaining burst time, preempting the current process if a new process arrives with a shorter remaining time. "
   ]
  },
  {
   "cell_type": "code",
   "execution_count": 20,
   "id": "68dd1a27-96ed-42ae-9436-1f56bb99debb",
   "metadata": {},
   "outputs": [],
   "source": [
    "import matplotlib.pyplot as plt"
   ]
  },
  {
   "cell_type": "code",
   "execution_count": 21,
   "id": "01bb7865-f469-4768-9bd3-cf24f2047c5b",
   "metadata": {},
   "outputs": [],
   "source": [
    "class Process:\n",
    "    def __init__(self, pid, arrival_time, burst_time):\n",
    "        self.pid = pid\n",
    "        self.arrival_time = arrival_time\n",
    "        self.burst_time = burst_time\n",
    "        self.remaining_time = burst_time \n",
    "        self.completion_time = 0\n",
    "        self.turnaround_time = 0\n",
    "        self.waiting_time = 0\n",
    "        self.start_time = None"
   ]
  },
  {
   "cell_type": "code",
   "execution_count": 22,
   "id": "8d548b7d-6400-4e44-9df7-81a31d1278db",
   "metadata": {},
   "outputs": [
    {
     "name": "stdin",
     "output_type": "stream",
     "text": [
      "Enter the number of processes:  4\n",
      "Enter arrival time for process A:  0\n",
      "Enter burst time for process A:  3\n",
      "Enter arrival time for process B:  3\n",
      "Enter burst time for process B:  7\n",
      "Enter arrival time for process C:  2\n",
      "Enter burst time for process C:  9\n",
      "Enter arrival time for process D:  6\n",
      "Enter burst time for process D:  8\n"
     ]
    },
    {
     "data": {
      "image/png": "[encoded data removed]",
      "text/plain": [
       "<Figure size 1000x600 with 1 Axes>"
      ]
     },
     "metadata": {},
     "output_type": "display_data"
    },
    {
     "name": "stdout",
     "output_type": "stream",
     "text": [
      "\n",
      "Process Summary:\n",
      "Process\tArrival Time\tBurst Time\tCompletion Time\tTurnaround Time\tWaiting Time\n",
      "A\t0\t\t3\t\t3\t\t3\t\t0\n",
      "B\t3\t\t7\t\t10\t\t7\t\t0\n",
      "D\t6\t\t8\t\t18\t\t12\t\t4\n",
      "C\t2\t\t9\t\t27\t\t25\t\t16\n",
      "\n",
      "Average Waiting Time: 5.00 ms\n"
     ]
    }
   ],
   "source": [
    "def calculate_srtf(processes):\n",
    "    processes.sort(key=lambda x: x.arrival_time) \n",
    "    current_time = 0\n",
    "    completed_processes = []\n",
    "    while any(p.remaining_time > 0 for p in processes): \n",
    "        ready_queue = [p for p in processes if p.arrival_time <= current_time and p.remaining_time > 0]\n",
    "        \n",
    "        if ready_queue:\n",
    "            shortest_job = min(ready_queue, key=lambda x: x.remaining_time)\n",
    "            \n",
    "            if shortest_job.start_time is None:\n",
    "                shortest_job.start_time = current_time\n",
    "\n",
    "            shortest_job.remaining_time -= 1\n",
    "            current_time += 1\n",
    "            \n",
    "            if shortest_job.remaining_time == 0: \n",
    "                shortest_job.completion_time = current_time\n",
    "                shortest_job.turnaround_time = shortest_job.completion_time - shortest_job.arrival_time\n",
    "                shortest_job.waiting_time = shortest_job.turnaround_time - shortest_job.burst_time\n",
    "                completed_processes.append(shortest_job)\n",
    "        else:\n",
    "            current_time += 1 \n",
    "\n",
    "    return completed_processes\n",
    "\n",
    "def display_gantt_chart(processes):\n",
    "    start_times = []\n",
    "    process_names = []\n",
    "    for process in processes:\n",
    "        start_times.append(process.start_time)\n",
    "        process_names.append(process.pid)\n",
    "    \n",
    "    plt.figure(figsize=(10, 6))\n",
    "    plt.barh(process_names, [p.burst_time for p in processes], left=start_times, color='skyblue', edgecolor='black')\n",
    "    plt.xlabel(\"Time\")\n",
    "    plt.ylabel(\"Processes\")\n",
    "    plt.title(\"SRTF Scheduling Gantt Chart\")\n",
    "    plt.grid(axis='x')\n",
    "    \n",
    "    for i, process in enumerate(processes):\n",
    "        plt.text(start_times[i] + process.burst_time / 2, i, str(start_times[i]), ha='center', va='center', color='black')\n",
    "    \n",
    "    plt.show()\n",
    "\n",
    "def print_process_summary(processes):\n",
    "    print(\"\\nProcess Summary:\")\n",
    "    print(\"Process\\tArrival Time\\tBurst Time\\tCompletion Time\\tTurnaround Time\\tWaiting Time\")\n",
    "    for process in processes:\n",
    "        print(f\"{process.pid}\\t{process.arrival_time}\\t\\t{process.burst_time}\\t\\t{process.completion_time}\\t\\t{process.turnaround_time}\\t\\t{process.waiting_time}\")\n",
    "\n",
    "def calculate_average_waiting_time(processes):\n",
    "    total_waiting_time = sum(process.waiting_time for process in processes)\n",
    "    average_waiting_time = total_waiting_time / len(processes)\n",
    "    return average_waiting_time\n",
    "\n",
    "def main():\n",
    "    processes = []\n",
    "    n = int(input(\"Enter the number of processes: \"))\n",
    "    \n",
    "    for i in range(n):\n",
    "        pid = chr(65 + i) \n",
    "        arrival_time = int(input(f\"Enter arrival time for process {pid}: \"))\n",
    "        burst_time = int(input(f\"Enter burst time for process {pid}: \"))\n",
    "        processes.append(Process(pid, arrival_time, burst_time))\n",
    "\n",
    "    completed_processes = calculate_srtf(processes)\n",
    "    display_gantt_chart(completed_processes)\n",
    "    print_process_summary(completed_processes)\n",
    "\n",
    "    avg_waiting_time = calculate_average_waiting_time(completed_processes)\n",
    "    print(f\"\\nAverage Waiting Time: {avg_waiting_time:.2f} ms\")\n",
    "\n",
    "if __name__ == \"__main__\":\n",
    "    main()\n"
   ]
  },
  {
   "cell_type": "code",
   "execution_count": null,
   "id": "8a65ca81-61cf-4b67-9e45-0ba34f367a86",
   "metadata": {},
   "outputs": [],
   "source": []
  }
 ],
 "metadata": {
  "kernelspec": {
   "display_name": "Python 3 (ipykernel)",
   "language": "python",
   "name": "python3"
  },
  "language_info": {
   "codemirror_mode": {
    "name": "ipython",
    "version": 3
   },
   "file_extension": ".py",
   "mimetype": "text/x-python",
   "name": "python",
   "nbconvert_exporter": "python",
   "pygments_lexer": "ipython3",
   "version": "3.11.5"
  }
 },
 "nbformat": 4,
 "nbformat_minor": 5
}
